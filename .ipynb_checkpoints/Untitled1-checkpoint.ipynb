{
 "cells": [
  {
   "cell_type": "code",
   "execution_count": 16,
   "metadata": {
    "scrolled": true
   },
   "outputs": [
    {
     "name": "stdout",
     "output_type": "stream",
     "text": [
      "r,p,or ss\n",
      "s\n",
      "p\n",
      "You won\n"
     ]
    }
   ],
   "source": [
    "User_input = str(input(\"r,p,or s\"))\n",
    "print(User_input)\n",
    "import random\n",
    "Comp_input = random.randint(1,3)\n",
    "if Comp_input==1:\n",
    "    Comp_input = \"r\"\n",
    "else:\n",
    "    if Comp_input==2:\n",
    "        Comp_input=\"s\"\n",
    "    else:\n",
    "        if Comp_input==3:\n",
    "            Comp_input=\"p\"\n",
    "        \n",
    "print(Comp_input)    \n",
    "\n",
    "if Comp_input==\"s\" and User_input == \"r\" :\n",
    "    print(\"You won\")\n",
    "if Comp_input==\"s\" and User_input == \"p\" :\n",
    "    print(\"I won\")\n",
    "if Comp_input==\"s\" and User_input == \"s\" :\n",
    "    print(\"Draw\")\n",
    "if Comp_input==\"r\" and User_input == \"s\" :\n",
    "    print(\"I won\")\n",
    "if Comp_input==\"r\" and User_input == \"p\" :\n",
    "    print(\"You won\")\n",
    "if Comp_input==\"r\" and User_input == \"r\" :\n",
    "    print(\"Draw\")\n",
    "if Comp_input==\"p\" and User_input == \"r\" :\n",
    "    print(\"I won\")\n",
    "if Comp_input==\"p\" and User_input == \"s\" :\n",
    "    print(\"You won\")\n",
    "if Comp_input==\"p\" and User_input == \"p\" :\n",
    "    print(\"draw\")\n"
   ]
  },
  {
   "cell_type": "code",
   "execution_count": null,
   "metadata": {},
   "outputs": [],
   "source": []
  },
  {
   "cell_type": "code",
   "execution_count": null,
   "metadata": {},
   "outputs": [],
   "source": []
  }
 ],
 "metadata": {
  "kernelspec": {
   "display_name": "Python 3",
   "language": "python",
   "name": "python3"
  },
  "language_info": {
   "codemirror_mode": {
    "name": "ipython",
    "version": 3
   },
   "file_extension": ".py",
   "mimetype": "text/x-python",
   "name": "python",
   "nbconvert_exporter": "python",
   "pygments_lexer": "ipython3",
   "version": "3.7.1"
  }
 },
 "nbformat": 4,
 "nbformat_minor": 2
}
