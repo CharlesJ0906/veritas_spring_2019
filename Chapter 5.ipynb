{
 "cells": [
  {
   "cell_type": "markdown",
   "metadata": {},
   "source": [
    "# 16 Use a for statement to print 10 random numbers."
   ]
  },
  {
   "cell_type": "code",
   "execution_count": 1,
   "metadata": {},
   "outputs": [
    {
     "name": "stdout",
     "output_type": "stream",
     "text": [
      "0.3894166949657347\n",
      "0.26038092274508984\n",
      "0.18283831073692602\n",
      "0.8315527814371424\n",
      "0.5059655509752381\n",
      "0.3022124705136594\n",
      "0.48072307370612233\n",
      "0.25552674271449816\n",
      "0.9014870856847803\n",
      "0.4403429881673727\n"
     ]
    }
   ],
   "source": [
    "import random\n",
    "\n",
    "howmany = 10\n",
    "for counter in range(howmany):\n",
    "    arandom = random.random()\n",
    "    print(arandom)\n"
   ]
  },
  {
   "cell_type": "code",
   "execution_count": 13,
   "metadata": {},
   "outputs": [
    {
     "name": "stdout",
     "output_type": "stream",
     "text": [
      "28\n",
      "25\n",
      "32\n",
      "31\n",
      "30\n",
      "29\n",
      "29\n",
      "28\n",
      "25\n",
      "29\n"
     ]
    }
   ],
   "source": [
    "import random\n",
    "\n",
    "\n",
    "for i in range (10):\n",
    "    diceThrow = random.randrange(25, 35)       # return an int, one of 1,2,3,4,5,6\n",
    "    print(diceThrow)"
   ]
  },
  {
   "cell_type": "markdown",
   "metadata": {},
   "source": [
    "# 18"
   ]
  },
  {
   "cell_type": "code",
   "execution_count": null,
   "metadata": {},
   "outputs": [],
   "source": []
  }
 ],
 "metadata": {
  "kernelspec": {
   "display_name": "Python 3",
   "language": "python",
   "name": "python3"
  },
  "language_info": {
   "codemirror_mode": {
    "name": "ipython",
    "version": 3
   },
   "file_extension": ".py",
   "mimetype": "text/x-python",
   "name": "python",
   "nbconvert_exporter": "python",
   "pygments_lexer": "ipython3",
   "version": "3.7.1"
  }
 },
 "nbformat": 4,
 "nbformat_minor": 2
}
