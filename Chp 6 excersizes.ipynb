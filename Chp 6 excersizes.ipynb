{
 "cells": [
  {
   "cell_type": "markdown",
   "metadata": {},
   "source": [
    "Write a program to draw this. Assume the innermost square is 20 units per side, and each successive square is 20 units bigger, per side, than the one inside it."
   ]
  },
  {
   "cell_type": "code",
   "execution_count": 1,
   "metadata": {},
   "outputs": [],
   "source": [
    "import turtle               \n",
    "wn = turtle.Screen()        \n",
    "alex = turtle.Turtle()\n",
    "alex.forward(20)\n",
    "alex.left(90)\n",
    "alex.forward(20)\n",
    "alex.left(90)\n",
    "alex.forward(20)\n",
    "alex.left(90)\n",
    "alex.forward(20)\n",
    "alex.penup()\n",
    "alex.forward(20)\n",
    "alex.left(90)\n",
    "alex.pendown()\n",
    "alex.forward(40)\n",
    "alex.left(90)\n",
    "alex.forward(60)\n",
    "alex.left(90)\n",
    "alex.forward(60)\n",
    "alex.left(90)\n",
    "alex.forward(60)\n",
    "alex.left(90)\n",
    "alex.forward(60)\n",
    "alex.penup()\n",
    "alex.forward(20)\n",
    "alex.pendown()\n",
    "alex.left(90)\n",
    "alex.forward(80)\n",
    "alex.left(90)\n",
    "alex.forward(100)\n",
    "alex.left(90)\n",
    "alex.forward(100)\n",
    "alex.left(90)\n",
    "alex.forward(100)\n",
    "alex.left(90)\n",
    "alex.forward(20)\n",
    "alex.forward(80) \n",
    "alex.penup()\n",
    "alex.forward(20)\n",
    "alex.pendown()\n",
    "alex.left(90)\n",
    "alex.forward(120)  \n",
    "alex.left(90)\n",
    "alex.forward(140)\n",
    "alex.left(90)\n",
    "alex.forward(140)\n",
    "alex.left(90)\n",
    "alex.forward(140)\n",
    "alex.left(90)\n",
    "alex.forward(140)\n",
    "alex.penup()\n",
    "alex.forward(20)\n",
    "alex.left(90)\n",
    "alex.pendown()\n",
    "alex.forward(160)\n",
    "alex.left(90)\n",
    "alex.forward(180)\n",
    "alex.left(90)\n",
    "alex.forward(180)\n",
    "alex.left(90)\n",
    "alex.forward(180)\n",
    "alex.left(90)\n",
    "alex.forward(20)"
   ]
  },
  {
   "cell_type": "code",
   "execution_count": null,
   "metadata": {},
   "outputs": [],
   "source": []
  }
 ],
 "metadata": {
  "kernelspec": {
   "display_name": "Python 3",
   "language": "python",
   "name": "python3"
  },
  "language_info": {
   "codemirror_mode": {
    "name": "ipython",
    "version": 3
   },
   "file_extension": ".py",
   "mimetype": "text/x-python",
   "name": "python",
   "nbconvert_exporter": "python",
   "pygments_lexer": "ipython3",
   "version": "3.7.1"
  }
 },
 "nbformat": 4,
 "nbformat_minor": 2
}
